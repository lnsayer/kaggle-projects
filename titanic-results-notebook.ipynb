{
 "cells": [
  {
   "cell_type": "code",
   "execution_count": 1,
   "id": "d1e62f9c",
   "metadata": {
    "_cell_guid": "b1076dfc-b9ad-4769-8c92-a6c4dae69d19",
    "_uuid": "8f2839f25d086af736a60e9eeb907d3b93b6e0e5",
    "execution": {
     "iopub.execute_input": "2024-03-07T17:00:01.295554Z",
     "iopub.status.busy": "2024-03-07T17:00:01.295018Z",
     "iopub.status.idle": "2024-03-07T17:00:03.387191Z",
     "shell.execute_reply": "2024-03-07T17:00:03.386032Z"
    },
    "papermill": {
     "duration": 2.103064,
     "end_time": "2024-03-07T17:00:03.389930",
     "exception": false,
     "start_time": "2024-03-07T17:00:01.286866",
     "status": "completed"
    },
    "tags": []
   },
   "outputs": [
    {
     "name": "stdout",
     "output_type": "stream",
     "text": [
      "/kaggle/input/titanic/train.csv\n",
      "/kaggle/input/titanic/test.csv\n",
      "/kaggle/input/titanic/gender_submission.csv\n"
     ]
    }
   ],
   "source": [
    "# This Python 3 environment comes with many helpful analytics libraries installed\n",
    "# It is defined by the kaggle/python Docker image: https://github.com/kaggle/docker-python\n",
    "# For example, here's several helpful packages to load\n",
    "\n",
    "import numpy as np # linear algebra\n",
    "import pandas as pd # data processing, CSV file I/O (e.g. pd.read_csv)\n",
    "import matplotlib.pyplot as plt\n",
    "import sklearn\n",
    "\n",
    "# Input data files are available in the read-only \"../input/\" directory\n",
    "# For example, running this (by clicking run or pressing Shift+Enter) will list all files under the input directory\n",
    "\n",
    "import os\n",
    "for dirname, _, filenames in os.walk('/kaggle/input'):\n",
    "    for filename in filenames:\n",
    "        print(os.path.join(dirname, filename))\n",
    "\n",
    "# You can write up to 20GB to the current directory (/kaggle/working/) that gets preserved as output when you create a version using \"Save & Run All\" \n",
    "# You can also write temporary files to /kaggle/temp/, but they won't be saved outside of the current session"
   ]
  },
  {
   "cell_type": "code",
   "execution_count": 2,
   "id": "4e9f40d2",
   "metadata": {
    "execution": {
     "iopub.execute_input": "2024-03-07T17:00:03.403994Z",
     "iopub.status.busy": "2024-03-07T17:00:03.402934Z",
     "iopub.status.idle": "2024-03-07T17:00:03.463574Z",
     "shell.execute_reply": "2024-03-07T17:00:03.462361Z"
    },
    "papermill": {
     "duration": 0.070815,
     "end_time": "2024-03-07T17:00:03.466728",
     "exception": false,
     "start_time": "2024-03-07T17:00:03.395913",
     "status": "completed"
    },
    "tags": []
   },
   "outputs": [
    {
     "data": {
      "text/html": [
       "<div>\n",
       "<style scoped>\n",
       "    .dataframe tbody tr th:only-of-type {\n",
       "        vertical-align: middle;\n",
       "    }\n",
       "\n",
       "    .dataframe tbody tr th {\n",
       "        vertical-align: top;\n",
       "    }\n",
       "\n",
       "    .dataframe thead th {\n",
       "        text-align: right;\n",
       "    }\n",
       "</style>\n",
       "<table border=\"1\" class=\"dataframe\">\n",
       "  <thead>\n",
       "    <tr style=\"text-align: right;\">\n",
       "      <th></th>\n",
       "      <th>PassengerId</th>\n",
       "      <th>Survived</th>\n",
       "      <th>Pclass</th>\n",
       "      <th>Name</th>\n",
       "      <th>Sex</th>\n",
       "      <th>Age</th>\n",
       "      <th>SibSp</th>\n",
       "      <th>Parch</th>\n",
       "      <th>Ticket</th>\n",
       "      <th>Fare</th>\n",
       "      <th>Cabin</th>\n",
       "      <th>Embarked</th>\n",
       "    </tr>\n",
       "  </thead>\n",
       "  <tbody>\n",
       "    <tr>\n",
       "      <th>0</th>\n",
       "      <td>1</td>\n",
       "      <td>0</td>\n",
       "      <td>3</td>\n",
       "      <td>Braund, Mr. Owen Harris</td>\n",
       "      <td>male</td>\n",
       "      <td>22.0</td>\n",
       "      <td>1</td>\n",
       "      <td>0</td>\n",
       "      <td>A/5 21171</td>\n",
       "      <td>7.2500</td>\n",
       "      <td>NaN</td>\n",
       "      <td>S</td>\n",
       "    </tr>\n",
       "    <tr>\n",
       "      <th>1</th>\n",
       "      <td>2</td>\n",
       "      <td>1</td>\n",
       "      <td>1</td>\n",
       "      <td>Cumings, Mrs. John Bradley (Florence Briggs Th...</td>\n",
       "      <td>female</td>\n",
       "      <td>38.0</td>\n",
       "      <td>1</td>\n",
       "      <td>0</td>\n",
       "      <td>PC 17599</td>\n",
       "      <td>71.2833</td>\n",
       "      <td>C85</td>\n",
       "      <td>C</td>\n",
       "    </tr>\n",
       "    <tr>\n",
       "      <th>2</th>\n",
       "      <td>3</td>\n",
       "      <td>1</td>\n",
       "      <td>3</td>\n",
       "      <td>Heikkinen, Miss. Laina</td>\n",
       "      <td>female</td>\n",
       "      <td>26.0</td>\n",
       "      <td>0</td>\n",
       "      <td>0</td>\n",
       "      <td>STON/O2. 3101282</td>\n",
       "      <td>7.9250</td>\n",
       "      <td>NaN</td>\n",
       "      <td>S</td>\n",
       "    </tr>\n",
       "    <tr>\n",
       "      <th>3</th>\n",
       "      <td>4</td>\n",
       "      <td>1</td>\n",
       "      <td>1</td>\n",
       "      <td>Futrelle, Mrs. Jacques Heath (Lily May Peel)</td>\n",
       "      <td>female</td>\n",
       "      <td>35.0</td>\n",
       "      <td>1</td>\n",
       "      <td>0</td>\n",
       "      <td>113803</td>\n",
       "      <td>53.1000</td>\n",
       "      <td>C123</td>\n",
       "      <td>S</td>\n",
       "    </tr>\n",
       "    <tr>\n",
       "      <th>4</th>\n",
       "      <td>5</td>\n",
       "      <td>0</td>\n",
       "      <td>3</td>\n",
       "      <td>Allen, Mr. William Henry</td>\n",
       "      <td>male</td>\n",
       "      <td>35.0</td>\n",
       "      <td>0</td>\n",
       "      <td>0</td>\n",
       "      <td>373450</td>\n",
       "      <td>8.0500</td>\n",
       "      <td>NaN</td>\n",
       "      <td>S</td>\n",
       "    </tr>\n",
       "    <tr>\n",
       "      <th>...</th>\n",
       "      <td>...</td>\n",
       "      <td>...</td>\n",
       "      <td>...</td>\n",
       "      <td>...</td>\n",
       "      <td>...</td>\n",
       "      <td>...</td>\n",
       "      <td>...</td>\n",
       "      <td>...</td>\n",
       "      <td>...</td>\n",
       "      <td>...</td>\n",
       "      <td>...</td>\n",
       "      <td>...</td>\n",
       "    </tr>\n",
       "    <tr>\n",
       "      <th>886</th>\n",
       "      <td>887</td>\n",
       "      <td>0</td>\n",
       "      <td>2</td>\n",
       "      <td>Montvila, Rev. Juozas</td>\n",
       "      <td>male</td>\n",
       "      <td>27.0</td>\n",
       "      <td>0</td>\n",
       "      <td>0</td>\n",
       "      <td>211536</td>\n",
       "      <td>13.0000</td>\n",
       "      <td>NaN</td>\n",
       "      <td>S</td>\n",
       "    </tr>\n",
       "    <tr>\n",
       "      <th>887</th>\n",
       "      <td>888</td>\n",
       "      <td>1</td>\n",
       "      <td>1</td>\n",
       "      <td>Graham, Miss. Margaret Edith</td>\n",
       "      <td>female</td>\n",
       "      <td>19.0</td>\n",
       "      <td>0</td>\n",
       "      <td>0</td>\n",
       "      <td>112053</td>\n",
       "      <td>30.0000</td>\n",
       "      <td>B42</td>\n",
       "      <td>S</td>\n",
       "    </tr>\n",
       "    <tr>\n",
       "      <th>888</th>\n",
       "      <td>889</td>\n",
       "      <td>0</td>\n",
       "      <td>3</td>\n",
       "      <td>Johnston, Miss. Catherine Helen \"Carrie\"</td>\n",
       "      <td>female</td>\n",
       "      <td>NaN</td>\n",
       "      <td>1</td>\n",
       "      <td>2</td>\n",
       "      <td>W./C. 6607</td>\n",
       "      <td>23.4500</td>\n",
       "      <td>NaN</td>\n",
       "      <td>S</td>\n",
       "    </tr>\n",
       "    <tr>\n",
       "      <th>889</th>\n",
       "      <td>890</td>\n",
       "      <td>1</td>\n",
       "      <td>1</td>\n",
       "      <td>Behr, Mr. Karl Howell</td>\n",
       "      <td>male</td>\n",
       "      <td>26.0</td>\n",
       "      <td>0</td>\n",
       "      <td>0</td>\n",
       "      <td>111369</td>\n",
       "      <td>30.0000</td>\n",
       "      <td>C148</td>\n",
       "      <td>C</td>\n",
       "    </tr>\n",
       "    <tr>\n",
       "      <th>890</th>\n",
       "      <td>891</td>\n",
       "      <td>0</td>\n",
       "      <td>3</td>\n",
       "      <td>Dooley, Mr. Patrick</td>\n",
       "      <td>male</td>\n",
       "      <td>32.0</td>\n",
       "      <td>0</td>\n",
       "      <td>0</td>\n",
       "      <td>370376</td>\n",
       "      <td>7.7500</td>\n",
       "      <td>NaN</td>\n",
       "      <td>Q</td>\n",
       "    </tr>\n",
       "  </tbody>\n",
       "</table>\n",
       "<p>891 rows × 12 columns</p>\n",
       "</div>"
      ],
      "text/plain": [
       "     PassengerId  Survived  Pclass  \\\n",
       "0              1         0       3   \n",
       "1              2         1       1   \n",
       "2              3         1       3   \n",
       "3              4         1       1   \n",
       "4              5         0       3   \n",
       "..           ...       ...     ...   \n",
       "886          887         0       2   \n",
       "887          888         1       1   \n",
       "888          889         0       3   \n",
       "889          890         1       1   \n",
       "890          891         0       3   \n",
       "\n",
       "                                                  Name     Sex   Age  SibSp  \\\n",
       "0                              Braund, Mr. Owen Harris    male  22.0      1   \n",
       "1    Cumings, Mrs. John Bradley (Florence Briggs Th...  female  38.0      1   \n",
       "2                               Heikkinen, Miss. Laina  female  26.0      0   \n",
       "3         Futrelle, Mrs. Jacques Heath (Lily May Peel)  female  35.0      1   \n",
       "4                             Allen, Mr. William Henry    male  35.0      0   \n",
       "..                                                 ...     ...   ...    ...   \n",
       "886                              Montvila, Rev. Juozas    male  27.0      0   \n",
       "887                       Graham, Miss. Margaret Edith  female  19.0      0   \n",
       "888           Johnston, Miss. Catherine Helen \"Carrie\"  female   NaN      1   \n",
       "889                              Behr, Mr. Karl Howell    male  26.0      0   \n",
       "890                                Dooley, Mr. Patrick    male  32.0      0   \n",
       "\n",
       "     Parch            Ticket     Fare Cabin Embarked  \n",
       "0        0         A/5 21171   7.2500   NaN        S  \n",
       "1        0          PC 17599  71.2833   C85        C  \n",
       "2        0  STON/O2. 3101282   7.9250   NaN        S  \n",
       "3        0            113803  53.1000  C123        S  \n",
       "4        0            373450   8.0500   NaN        S  \n",
       "..     ...               ...      ...   ...      ...  \n",
       "886      0            211536  13.0000   NaN        S  \n",
       "887      0            112053  30.0000   B42        S  \n",
       "888      2        W./C. 6607  23.4500   NaN        S  \n",
       "889      0            111369  30.0000  C148        C  \n",
       "890      0            370376   7.7500   NaN        Q  \n",
       "\n",
       "[891 rows x 12 columns]"
      ]
     },
     "metadata": {},
     "output_type": "display_data"
    }
   ],
   "source": [
    "# Load the data \n",
    "train_data = pd.read_csv(\"/kaggle/input/titanic/train.csv\")\n",
    "test_data = pd.read_csv(\"/kaggle/input/titanic/test.csv\")\n",
    "# Make a dataframe\n",
    "train_df = pd.DataFrame(train_data)\n",
    "test_df = pd.DataFrame(test_data)\n",
    "\n",
    "# Print out the dataframe\n",
    "# display(test_df)\n",
    "\n",
    "# Show the test data \n",
    "# display(train_df)\n",
    "\n",
    "# Set how many rows are set in the dataframe\n",
    "pd.set_option('display.min_rows', 10) \n",
    "pd.set_option('display.max_rows', 10) \n",
    "\n",
    "display(train_df)"
   ]
  },
  {
   "cell_type": "code",
   "execution_count": 3,
   "id": "505b12ca",
   "metadata": {
    "execution": {
     "iopub.execute_input": "2024-03-07T17:00:03.481674Z",
     "iopub.status.busy": "2024-03-07T17:00:03.480816Z",
     "iopub.status.idle": "2024-03-07T17:00:03.797401Z",
     "shell.execute_reply": "2024-03-07T17:00:03.796246Z"
    },
    "papermill": {
     "duration": 0.327675,
     "end_time": "2024-03-07T17:00:03.800672",
     "exception": false,
     "start_time": "2024-03-07T17:00:03.472997",
     "status": "completed"
    },
    "tags": []
   },
   "outputs": [],
   "source": [
    "# Import the methods for pipeline processing\n",
    "from sklearn.compose import ColumnTransformer\n",
    "from sklearn.pipeline import Pipeline\n",
    "from sklearn.impute import SimpleImputer\n",
    "from sklearn.preprocessing import OneHotEncoder\n",
    "\n",
    "# Function to take a dataframe and prepare it for training. It imputes (fills missing values) for\"Age\" and \"Fare\", \n",
    "# makes the \"Cabin\" and \"Sex\" column binary (i.e in a cabin or not, male or female) and one hot encodes the \"Embarked\" column. \n",
    "def prepare_dataframe(df, drop_columns):\n",
    "    # Copying dataframe to manipulate\n",
    "    new_df = df.copy(deep=True)\n",
    "    \n",
    "    new_df[\"Cabin\"] = new_df[\"Cabin\"].notnull().astype('int')\n",
    "    \n",
    "    binary_mapping = {\"male\" : 0, \"female\": 1}\n",
    "    new_df[\"Sex\"] = new_df[\"Sex\"].map(binary_mapping)\n",
    "    \n",
    "    numeric_features = [\"Age\", \"Fare\"]\n",
    "    categorical_features = [\"Embarked\"]\n",
    "    \n",
    "    numeric_transformer = Pipeline(steps = [(\"imputer\", SimpleImputer(strategy=\"mean\"))])\n",
    "    \n",
    "    categorical_transformer = Pipeline(steps = [ (\"imputer\", SimpleImputer(strategy = \"constant\", \n",
    "                                                                           fill_value=\"missing\")),\n",
    "                                               (\"onehot\", OneHotEncoder(handle_unknown=\"ignore\"))])\n",
    "        \n",
    "    preprocessor = ColumnTransformer(transformers = [(\"num\", numeric_transformer, numeric_features),\n",
    "                                                    (\"cat\", categorical_transformer, categorical_features)])\n",
    "    \n",
    "    preprocessor.fit(new_df)\n",
    "    \n",
    "    transformed_data = preprocessor.transform(new_df)\n",
    "    \n",
    "     \n",
    "    numeric_data = transformed_data[:, :len(numeric_features)]\n",
    "    categorical_data = transformed_data[:, len(numeric_features):]\n",
    "    \n",
    "    categorical_encoded_features = preprocessor.named_transformers_['cat']['onehot'] \\\n",
    "                                    .get_feature_names_out(input_features=categorical_features)\n",
    "    \n",
    "    # Replace the columns with transformed data\n",
    "    new_df[categorical_encoded_features] = categorical_data \n",
    "    new_df[numeric_features] = numeric_data\n",
    "    \n",
    "    # Emabarked missing removed for the training set as it has a null value \n",
    "    if \"Embarked_missing\" in new_df.columns:\n",
    "        new_df.drop(\"Embarked_missing\", axis=1, inplace=True)\n",
    "    \n",
    "    new_df.drop(drop_columns,axis =1, inplace=True)\n",
    "    \n",
    "    return pd.DataFrame(new_df)"
   ]
  },
  {
   "cell_type": "code",
   "execution_count": 4,
   "id": "d5c683af",
   "metadata": {
    "execution": {
     "iopub.execute_input": "2024-03-07T17:00:03.815764Z",
     "iopub.status.busy": "2024-03-07T17:00:03.815321Z",
     "iopub.status.idle": "2024-03-07T17:00:04.457696Z",
     "shell.execute_reply": "2024-03-07T17:00:04.456296Z"
    },
    "papermill": {
     "duration": 0.652752,
     "end_time": "2024-03-07T17:00:04.460206",
     "exception": false,
     "start_time": "2024-03-07T17:00:03.807454",
     "status": "completed"
    },
    "tags": []
   },
   "outputs": [
    {
     "name": "stdout",
     "output_type": "stream",
     "text": [
      "0\n",
      "177\n",
      "0\n",
      "1\n"
     ]
    },
    {
     "data": {
      "image/png": "[encoded data removed]",
      "text/plain": [
       "<Figure size 500x300 with 2 Axes>"
      ]
     },
     "metadata": {},
     "output_type": "display_data"
    }
   ],
   "source": [
    "drop_columns = [\"Embarked\", \"Ticket\", \"Name\", \"PassengerId\"]\n",
    "\n",
    "new_train_df = prepare_dataframe(train_df, drop_columns)\n",
    "new_test_df = prepare_dataframe(test_df, drop_columns)\n",
    "\n",
    "#Plotting histograms of the feature variables\n",
    "fig, ax = plt.subplots(nrows=1, ncols=2, \n",
    "                       figsize = (5,3))\n",
    "\n",
    "#print(len(train_df[\"Age\"]), len(train_df_missing[\"Age\"]))\n",
    "\n",
    "ax[0].hist(train_df[\"Age\"], bins=20);\n",
    "\n",
    "ax[1].hist(new_train_df[\"Age\"], bins=20);\n",
    "\n",
    "print(new_train_df[\"Age\"].isna().sum())\n",
    "print(train_df[\"Age\"].isna().sum())\n",
    "\n",
    "print(new_test_df[\"Fare\"].isna().sum())\n",
    "print(test_df[\"Fare\"].isna().sum())"
   ]
  },
  {
   "cell_type": "code",
   "execution_count": 5,
   "id": "f2be1839",
   "metadata": {
    "execution": {
     "iopub.execute_input": "2024-03-07T17:00:04.475589Z",
     "iopub.status.busy": "2024-03-07T17:00:04.475144Z",
     "iopub.status.idle": "2024-03-07T17:00:04.930756Z",
     "shell.execute_reply": "2024-03-07T17:00:04.929430Z"
    },
    "papermill": {
     "duration": 0.46661,
     "end_time": "2024-03-07T17:00:04.933489",
     "exception": false,
     "start_time": "2024-03-07T17:00:04.466879",
     "status": "completed"
    },
    "tags": []
   },
   "outputs": [
    {
     "data": {
      "text/html": [
       "<style>#sk-container-id-1 {color: black;background-color: white;}#sk-container-id-1 pre{padding: 0;}#sk-container-id-1 div.sk-toggleable {background-color: white;}#sk-container-id-1 label.sk-toggleable__label {cursor: pointer;display: block;width: 100%;margin-bottom: 0;padding: 0.3em;box-sizing: border-box;text-align: center;}#sk-container-id-1 label.sk-toggleable__label-arrow:before {content: \"▸\";float: left;margin-right: 0.25em;color: #696969;}#sk-container-id-1 label.sk-toggleable__label-arrow:hover:before {color: black;}#sk-container-id-1 div.sk-estimator:hover label.sk-toggleable__label-arrow:before {color: black;}#sk-container-id-1 div.sk-toggleable__content {max-height: 0;max-width: 0;overflow: hidden;text-align: left;background-color: #f0f8ff;}#sk-container-id-1 div.sk-toggleable__content pre {margin: 0.2em;color: black;border-radius: 0.25em;background-color: #f0f8ff;}#sk-container-id-1 input.sk-toggleable__control:checked~div.sk-toggleable__content {max-height: 200px;max-width: 100%;overflow: auto;}#sk-container-id-1 input.sk-toggleable__control:checked~label.sk-toggleable__label-arrow:before {content: \"▾\";}#sk-container-id-1 div.sk-estimator input.sk-toggleable__control:checked~label.sk-toggleable__label {background-color: #d4ebff;}#sk-container-id-1 div.sk-label input.sk-toggleable__control:checked~label.sk-toggleable__label {background-color: #d4ebff;}#sk-container-id-1 input.sk-hidden--visually {border: 0;clip: rect(1px 1px 1px 1px);clip: rect(1px, 1px, 1px, 1px);height: 1px;margin: -1px;overflow: hidden;padding: 0;position: absolute;width: 1px;}#sk-container-id-1 div.sk-estimator {font-family: monospace;background-color: #f0f8ff;border: 1px dotted black;border-radius: 0.25em;box-sizing: border-box;margin-bottom: 0.5em;}#sk-container-id-1 div.sk-estimator:hover {background-color: #d4ebff;}#sk-container-id-1 div.sk-parallel-item::after {content: \"\";width: 100%;border-bottom: 1px solid gray;flex-grow: 1;}#sk-container-id-1 div.sk-label:hover label.sk-toggleable__label {background-color: #d4ebff;}#sk-container-id-1 div.sk-serial::before {content: \"\";position: absolute;border-left: 1px solid gray;box-sizing: border-box;top: 0;bottom: 0;left: 50%;z-index: 0;}#sk-container-id-1 div.sk-serial {display: flex;flex-direction: column;align-items: center;background-color: white;padding-right: 0.2em;padding-left: 0.2em;position: relative;}#sk-container-id-1 div.sk-item {position: relative;z-index: 1;}#sk-container-id-1 div.sk-parallel {display: flex;align-items: stretch;justify-content: center;background-color: white;position: relative;}#sk-container-id-1 div.sk-item::before, #sk-container-id-1 div.sk-parallel-item::before {content: \"\";position: absolute;border-left: 1px solid gray;box-sizing: border-box;top: 0;bottom: 0;left: 50%;z-index: -1;}#sk-container-id-1 div.sk-parallel-item {display: flex;flex-direction: column;z-index: 1;position: relative;background-color: white;}#sk-container-id-1 div.sk-parallel-item:first-child::after {align-self: flex-end;width: 50%;}#sk-container-id-1 div.sk-parallel-item:last-child::after {align-self: flex-start;width: 50%;}#sk-container-id-1 div.sk-parallel-item:only-child::after {width: 0;}#sk-container-id-1 div.sk-dashed-wrapped {border: 1px dashed gray;margin: 0 0.4em 0.5em 0.4em;box-sizing: border-box;padding-bottom: 0.4em;background-color: white;}#sk-container-id-1 div.sk-label label {font-family: monospace;font-weight: bold;display: inline-block;line-height: 1.2em;}#sk-container-id-1 div.sk-label-container {text-align: center;}#sk-container-id-1 div.sk-container {/* jupyter's `normalize.less` sets `[hidden] { display: none; }` but bootstrap.min.css set `[hidden] { display: none !important; }` so we also need the `!important` here to be able to override the default hidden behavior on the sphinx rendered scikit-learn.org. See: https://github.com/scikit-learn/scikit-learn/issues/21755 */display: inline-block !important;position: relative;}#sk-container-id-1 div.sk-text-repr-fallback {display: none;}</style><div id=\"sk-container-id-1\" class=\"sk-top-container\"><div class=\"sk-text-repr-fallback\"><pre>RandomForestClassifier()</pre><b>In a Jupyter environment, please rerun this cell to show the HTML representation or trust the notebook. <br />On GitHub, the HTML representation is unable to render, please try loading this page with nbviewer.org.</b></div><div class=\"sk-container\" hidden><div class=\"sk-item\"><div class=\"sk-estimator sk-toggleable\"><input class=\"sk-toggleable__control sk-hidden--visually\" id=\"sk-estimator-id-1\" type=\"checkbox\" checked><label for=\"sk-estimator-id-1\" class=\"sk-toggleable__label sk-toggleable__label-arrow\">RandomForestClassifier</label><div class=\"sk-toggleable__content\"><pre>RandomForestClassifier()</pre></div></div></div></div></div>"
      ],
      "text/plain": [
       "RandomForestClassifier()"
      ]
     },
     "execution_count": 5,
     "metadata": {},
     "output_type": "execute_result"
    }
   ],
   "source": [
    "# Quick fitting of the data\n",
    "\n",
    "new_train_df = prepare_dataframe(train_df, drop_columns)\n",
    "new_test_df = prepare_dataframe(test_df, drop_columns)\n",
    "\n",
    "# First RandomForestClassifier \n",
    "\n",
    "# Setup the random seed\n",
    "np.random.seed(42)\n",
    "\n",
    "# Split up into feature variables and target variables\n",
    "x_train = new_train_df.drop([\"Survived\"], axis=1)\n",
    "y_train = new_train_df[\"Survived\"]\n",
    "x_test = new_test_df\n",
    "\n",
    "# Import randomforestclassifier\n",
    "from sklearn.ensemble import RandomForestClassifier\n",
    "\n",
    "# Instantiate the classifier\n",
    "clf = RandomForestClassifier(n_estimators=100)\n",
    "clf.fit(x_train, y_train)\n",
    "\n",
    "# display(x_train)\n",
    "# display(x_test)\n",
    "# display(new_test_df)"
   ]
  },
  {
   "cell_type": "code",
   "execution_count": 6,
   "id": "885e80ae",
   "metadata": {
    "execution": {
     "iopub.execute_input": "2024-03-07T17:00:04.949613Z",
     "iopub.status.busy": "2024-03-07T17:00:04.949158Z",
     "iopub.status.idle": "2024-03-07T17:00:05.298010Z",
     "shell.execute_reply": "2024-03-07T17:00:05.296742Z"
    },
    "papermill": {
     "duration": 0.360238,
     "end_time": "2024-03-07T17:00:05.300744",
     "exception": false,
     "start_time": "2024-03-07T17:00:04.940506",
     "status": "completed"
    },
    "tags": []
   },
   "outputs": [
    {
     "data": {
      "image/png": "[encoded data removed]",
      "text/plain": [
       "<Figure size 1400x600 with 1 Axes>"
      ]
     },
     "metadata": {},
     "output_type": "display_data"
    }
   ],
   "source": [
    "# Gives the importance of different features of the model\n",
    "importance = clf.feature_importances_\n",
    "\n",
    "importance_dictionary = {x_train.columns[i] : importance[i] for i in range(len(importance)) }\n",
    "importance\n",
    "\n",
    "keys = importance_dictionary.keys()\n",
    "values = importance_dictionary.values()\n",
    "\n",
    "plt.figure(figsize=(14, 6))\n",
    "plt.bar(keys, values)\n",
    "plt.xlabel('Features')\n",
    "plt.ylabel('Feature Importances')\n",
    "plt.title('Feature importance')\n",
    "plt.show()"
   ]
  },
  {
   "cell_type": "code",
   "execution_count": null,
   "id": "b5e9584a",
   "metadata": {
    "papermill": {
     "duration": 0.007162,
     "end_time": "2024-03-07T17:00:05.315468",
     "exception": false,
     "start_time": "2024-03-07T17:00:05.308306",
     "status": "completed"
    },
    "tags": []
   },
   "outputs": [],
   "source": []
  },
  {
   "cell_type": "code",
   "execution_count": 7,
   "id": "2b66bc9e",
   "metadata": {
    "execution": {
     "iopub.execute_input": "2024-03-07T17:00:05.332492Z",
     "iopub.status.busy": "2024-03-07T17:00:05.332094Z",
     "iopub.status.idle": "2024-03-07T17:00:05.510296Z",
     "shell.execute_reply": "2024-03-07T17:00:05.509013Z"
    },
    "papermill": {
     "duration": 0.189798,
     "end_time": "2024-03-07T17:00:05.512913",
     "exception": false,
     "start_time": "2024-03-07T17:00:05.323115",
     "status": "completed"
    },
    "tags": []
   },
   "outputs": [
    {
     "data": {
      "text/plain": [
       "'\\nrs_clf.fit(x_train_embarked, y_train);\\nbest_params_embarked = rs_clf.best_params_\\ncv_results_embarked = rs_clf.cv_results_\\n'"
      ]
     },
     "execution_count": 7,
     "metadata": {},
     "output_type": "execute_result"
    }
   ],
   "source": [
    "from sklearn.base import clone\n",
    "np.random.seed(42)\n",
    "\n",
    "drop_columns = [\"Embarked\", \"Ticket\", \"Name\", \"PassengerId\"]\n",
    "drop_columns_cabin = [\"Embarked\", \"Ticket\", \"Name\", \"PassengerId\", \"Cabin\"]\n",
    "drop_columns_embarked = [\"Embarked\",\"Embarked_C\", \"Embarked_S\", \"Embarked_Q\", \"Ticket\", \"Name\", \"PassengerId\", \"Cabin\"]\n",
    "drop_columns_age = [\"Embarked\",\"Embarked_C\", \"Embarked_S\", \"Embarked_Q\", \"Ticket\", \"Name\", \"PassengerId\", \"Cabin\", \"Age\", \"Sex\"]\n",
    "\n",
    "from  sklearn.metrics import accuracy_score, precision_score, recall_score, f1_score\n",
    "from sklearn.model_selection import RandomizedSearchCV\n",
    "from sklearn.model_selection import PredefinedSplit\n",
    "\n",
    "grid = {\n",
    "    'n_estimators': [10, 100, 500, 1000, 2000],\n",
    "    'max_depth': [None, 10, 20, 40],\n",
    "    'min_samples_split': [2, 5, 10],\n",
    "    'min_samples_leaf': [1, 2, 4],\n",
    "    'max_features': [ 'sqrt'],\n",
    "    'bootstrap': [True, False]\n",
    "}\n",
    " \n",
    "\n",
    "# Setup the random seed\n",
    "np.random.seed(42)\n",
    "\n",
    "# Split up into feature variables and target variables\n",
    "x_train = prepare_dataframe(train_df, drop_columns).drop([\"Survived\"], axis=1)\n",
    "y_train = new_train_df[\"Survived\"]\n",
    "x_test = prepare_dataframe(test_df, drop_columns)\n",
    "\n",
    "x_train_cabin = prepare_dataframe(train_df, drop_columns_cabin).drop([\"Survived\"], axis=1)\n",
    "y_train = new_train_df[\"Survived\"]\n",
    "x_test_cabin = prepare_dataframe(test_df, drop_columns_cabin)\n",
    "\n",
    "x_train_embarked = prepare_dataframe(train_df, drop_columns_embarked).drop([\"Survived\"], axis=1)\n",
    "y_train = new_train_df[\"Survived\"]\n",
    "x_test_embarked = prepare_dataframe(test_df, drop_columns_embarked)\n",
    "\n",
    "x_train_age = prepare_dataframe(train_df, drop_columns_age).drop([\"Survived\"], axis=1)\n",
    "y_train = new_train_df[\"Survived\"]\n",
    "x_test_age = prepare_dataframe(test_df, drop_columns_age)\n",
    "\n",
    "\n",
    "clf = RandomForestClassifier(n_jobs = 1)\n",
    "\n",
    "rs_clf = RandomizedSearchCV(estimator = clf, param_distributions=grid,\n",
    "                       n_iter = 20, # number of models to try\n",
    "                       cv = 5, # Setting the test set as the validation set\n",
    "                       verbose =2 # Prints out information as it is running\n",
    "                       )\n",
    "\n",
    "\n",
    "#display(x_train, x_train_cabin, x_train_embarked, x_train_age)\n",
    "# print(cross_val_index(5, x_train,y_train, 1))\n",
    "\n",
    "#rs_clf.fit(x_train, y_train);\n",
    "#best_params = rs_clf.best_params_\n",
    "#cv_results = rs_clf.cv_results_\n",
    "#rs_clf.fit(x_train_cabin, y_train);\n",
    "#best_params_cabin = rs_clf.best_params_\n",
    "#cv_results_cabin = rs_clf.cv_results_\n",
    "'''\n",
    "rs_clf.fit(x_train_embarked, y_train);\n",
    "best_params_embarked = rs_clf.best_params_\n",
    "cv_results_embarked = rs_clf.cv_results_\n",
    "'''\n",
    "#rs_clf.fit(x_train_age, y_train);\n",
    "#best_params_age = rs_clf.best_params_\n",
    "#cv_results_age = rs_clf.cv_results_\n",
    "\n",
    "\n"
   ]
  },
  {
   "cell_type": "code",
   "execution_count": 8,
   "id": "74664514",
   "metadata": {
    "execution": {
     "iopub.execute_input": "2024-03-07T17:00:05.530047Z",
     "iopub.status.busy": "2024-03-07T17:00:05.529285Z",
     "iopub.status.idle": "2024-03-07T17:00:05.536800Z",
     "shell.execute_reply": "2024-03-07T17:00:05.535418Z"
    },
    "papermill": {
     "duration": 0.01917,
     "end_time": "2024-03-07T17:00:05.539504",
     "exception": false,
     "start_time": "2024-03-07T17:00:05.520334",
     "status": "completed"
    },
    "tags": []
   },
   "outputs": [
    {
     "data": {
      "text/plain": [
       "'\\nprint(best_params_embarked)\\ndisplay(pd.DataFrame(cv_results_embarked))\\n'"
      ]
     },
     "execution_count": 8,
     "metadata": {},
     "output_type": "execute_result"
    }
   ],
   "source": [
    "pd.set_option('display.min_rows', 20) \n",
    "pd.set_option('display.max_rows', 20) \n",
    "#print(best_params)\n",
    "#display(pd.DataFrame(cv_results))\n",
    "\n",
    "#print(best_params_cabin)\n",
    "#display(pd.DataFrame(cv_results_cabin))\n",
    "'''\n",
    "print(best_params_embarked)\n",
    "display(pd.DataFrame(cv_results_embarked))\n",
    "'''\n",
    "#print(best_params_age) \n",
    "#display(pd.DataFrame(cv_results_age))"
   ]
  },
  {
   "cell_type": "code",
   "execution_count": 9,
   "id": "a78ced8e",
   "metadata": {
    "execution": {
     "iopub.execute_input": "2024-03-07T17:00:05.557217Z",
     "iopub.status.busy": "2024-03-07T17:00:05.556422Z",
     "iopub.status.idle": "2024-03-07T17:00:11.909524Z",
     "shell.execute_reply": "2024-03-07T17:00:11.907297Z"
    },
    "papermill": {
     "duration": 6.365376,
     "end_time": "2024-03-07T17:00:11.912671",
     "exception": false,
     "start_time": "2024-03-07T17:00:05.547295",
     "status": "completed"
    },
    "tags": []
   },
   "outputs": [
    {
     "name": "stdout",
     "output_type": "stream",
     "text": [
      "712 891\n",
      "179 179\n",
      "0.8715083798882681\n",
      "0.8156424581005587\n"
     ]
    },
    {
     "data": {
      "text/plain": [
       "'\\nclf2 = RandomForestClassifier(n_estimators=500)\\nnew_train_df = prepare_dataframe(train_df, drop_columns_age)\\nx_train = new_train_df.drop([\"Survived\"], axis=1)\\ny_train = new_train_df[\"Survived\"]\\ncross_val_dataframes = cross_val_index(5, x_train, y_train, 3)\\ndisplay(cross_val_dataframes[0])\\nclf2.fit(cross_val_dataframes[0], cross_val_dataframes[1])\\ny_valid_preds = clf2.predict(cross_val_dataframes[2])\\nprint(accuracy_score(y_valid_preds, cross_val_dataframes[3]))\\n'"
      ]
     },
     "execution_count": 9,
     "metadata": {},
     "output_type": "execute_result"
    },
    {
     "data": {
      "image/png": "[encoded data removed]",
      "text/plain": [
       "<Figure size 640x480 with 1 Axes>"
      ]
     },
     "metadata": {},
     "output_type": "display_data"
    }
   ],
   "source": [
    "from  sklearn.metrics import accuracy_score, precision_score, recall_score, f1_score\n",
    "from sklearn.metrics import roc_curve\n",
    "\n",
    "np.random.seed(42)\n",
    "\n",
    "# Function to divide a dataframe into validation and training sets with cross validation (k-folds). Returns the desired fold  \n",
    "def cross_val_index(k_folds, x_dataframe, y_dataframe, fold_number):\n",
    "    index = round(len(x_dataframe)/k_folds)\n",
    "    start_index, end_index = [], []\n",
    "    for i in range(k_folds):\n",
    "                start_index.append(i * index)\n",
    "                end_index.append((i + 1) * index if i < k_folds - 1 else len(x_dataframe))\n",
    "    print(start_index[fold_number-1], end_index[fold_number-1])\n",
    "    X_train = pd.concat([x_dataframe[:start_index[fold_number-1]], x_dataframe[end_index[fold_number-1]:]])\n",
    "    y_train = pd.concat([y_dataframe[:start_index[fold_number-1]], y_dataframe[end_index[fold_number-1]:]])\n",
    "    X_valid = x_dataframe[start_index[fold_number-1]:end_index[fold_number-1]]\n",
    "    y_valid = y_dataframe[start_index[fold_number-1]:end_index[fold_number-1]]\n",
    "    print(len(X_valid), len(y_valid))\n",
    "    \n",
    "    return X_train, y_train, X_valid, y_valid\n",
    "\n",
    "\n",
    "\n",
    "\n",
    "drop_columns = [\"Embarked\", \"Ticket\", \"Name\", \"PassengerId\", \"Cabin\", \"Embarked_C\", \"Embarked_S\", \"Embarked_Q\"]\n",
    "drop_columns_age = [\"Embarked\",\"Embarked_C\", \"Embarked_S\", \"Embarked_Q\", \"Ticket\", \"Name\", \"PassengerId\", \"Age\", \"Sex\", \"Pclass\", \"Fare\", \"SibSp\", \"Cabin\"]\n",
    "# drop_columns = [\"Embarked\",\"Embarked_C\", \"Embarked_S\", \"Embarked_Q\", \"Ticket\", \"Name\", \"PassengerId\", \"Cabin\", \"Parch\"]\n",
    "\n",
    "# Setting up validation dataframes\n",
    "new_train_df = prepare_dataframe(train_df, drop_columns)\n",
    "x_train = new_train_df.drop([\"Survived\"], axis=1)\n",
    "y_train = new_train_df[\"Survived\"]\n",
    "\n",
    "\n",
    "cross_val_dataframes = cross_val_index(5, x_train, y_train, 5)\n",
    "\n",
    "\n",
    "best_clf = RandomForestClassifier( **{'n_estimators': 2000, 'min_samples_split': 5, 'min_samples_leaf': 4, 'max_features': 'sqrt', 'max_depth': 40, 'bootstrap': False})\n",
    "best_clf.fit(cross_val_dataframes[0], cross_val_dataframes[1])\n",
    "best_y_valid_preds = best_clf.predict(cross_val_dataframes[2])\n",
    "best_y_valids_proba = best_clf.predict_proba(cross_val_dataframes[2])\n",
    "best_y_valids_proba_pos = best_y_valids_proba[:, 1]\n",
    "print(accuracy_score(best_y_valid_preds, cross_val_dataframes[3]))\n",
    "\n",
    "worst_clf = RandomForestClassifier( **{'n_estimators': 500, 'min_samples_split': 2, 'min_samples_leaf': 1, 'max_features': 'sqrt', 'max_depth': 40, 'bootstrap': False})\n",
    "worst_clf.fit(cross_val_dataframes[0], cross_val_dataframes[1])\n",
    "worst_y_valid_preds = worst_clf.predict(cross_val_dataframes[2])\n",
    "worst_y_valids_proba = worst_clf.predict_proba(cross_val_dataframes[2])\n",
    "worst_y_valids_proba_pos = worst_y_valids_proba[:, 1]\n",
    "print(accuracy_score(worst_y_valid_preds, cross_val_dataframes[3]))\n",
    "\n",
    "best_fpr, best_tpr, best_thresholds = roc_curve(cross_val_dataframes[3].values, best_y_valids_proba_pos)\n",
    "worst_fpr, worst_tpr, worst_thresholds = roc_curve(cross_val_dataframes[3].values, worst_y_valids_proba_pos)\n",
    "\n",
    "\n",
    "\n",
    "\n",
    "plt.plot(best_fpr, best_tpr, color='orange', label='ROC')\n",
    "plt.plot(worst_fpr, worst_tpr, color='green', label='ROC')\n",
    "\n",
    "'''\n",
    "clf2 = RandomForestClassifier(n_estimators=500)\n",
    "new_train_df = prepare_dataframe(train_df, drop_columns_age)\n",
    "x_train = new_train_df.drop([\"Survived\"], axis=1)\n",
    "y_train = new_train_df[\"Survived\"]\n",
    "cross_val_dataframes = cross_val_index(5, x_train, y_train, 3)\n",
    "display(cross_val_dataframes[0])\n",
    "clf2.fit(cross_val_dataframes[0], cross_val_dataframes[1])\n",
    "y_valid_preds = clf2.predict(cross_val_dataframes[2])\n",
    "print(accuracy_score(y_valid_preds, cross_val_dataframes[3]))\n",
    "'''"
   ]
  },
  {
   "cell_type": "code",
   "execution_count": 10,
   "id": "4afd51c7",
   "metadata": {
    "execution": {
     "iopub.execute_input": "2024-03-07T17:00:11.932120Z",
     "iopub.status.busy": "2024-03-07T17:00:11.931635Z",
     "iopub.status.idle": "2024-03-07T17:00:11.939505Z",
     "shell.execute_reply": "2024-03-07T17:00:11.938150Z"
    },
    "papermill": {
     "duration": 0.020534,
     "end_time": "2024-03-07T17:00:11.942080",
     "exception": false,
     "start_time": "2024-03-07T17:00:11.921546",
     "status": "completed"
    },
    "tags": []
   },
   "outputs": [
    {
     "data": {
      "text/plain": [
       "'\\nprint(rs_clf.best_params_)\\ndisplay(pd.DataFrame(rs_clf.cv_results_))\\n\\nprint(rs_clf_embarked.best_params_)\\ndisplay(pd.DataFrame(rs_clf_embarked.cv_results_))\\n\\nprint(rs_clf_cabin.best_params_)\\ndisplay(pd.DataFrame(rs_clf_cabin.cv_results_))\\n\\nprint(rs_clf_age.best_params_)\\ndisplay(pd.DataFrame(rs_clf_age.cv_results_))\\n'"
      ]
     },
     "execution_count": 10,
     "metadata": {},
     "output_type": "execute_result"
    }
   ],
   "source": [
    "'''\n",
    "print(rs_clf.best_params_)\n",
    "display(pd.DataFrame(rs_clf.cv_results_))\n",
    "\n",
    "print(rs_clf_embarked.best_params_)\n",
    "display(pd.DataFrame(rs_clf_embarked.cv_results_))\n",
    "\n",
    "print(rs_clf_cabin.best_params_)\n",
    "display(pd.DataFrame(rs_clf_cabin.cv_results_))\n",
    "\n",
    "print(rs_clf_age.best_params_)\n",
    "display(pd.DataFrame(rs_clf_age.cv_results_))\n",
    "'''"
   ]
  },
  {
   "cell_type": "code",
   "execution_count": 11,
   "id": "5796fbd4",
   "metadata": {
    "execution": {
     "iopub.execute_input": "2024-03-07T17:00:11.962358Z",
     "iopub.status.busy": "2024-03-07T17:00:11.961592Z",
     "iopub.status.idle": "2024-03-07T17:00:11.969090Z",
     "shell.execute_reply": "2024-03-07T17:00:11.967800Z"
    },
    "papermill": {
     "duration": 0.021057,
     "end_time": "2024-03-07T17:00:11.972102",
     "exception": false,
     "start_time": "2024-03-07T17:00:11.951045",
     "status": "completed"
    },
    "tags": []
   },
   "outputs": [
    {
     "data": {
      "text/plain": [
       "'print(rs_clf_embarked.best_params_)\\ndisplay(pd.DataFrame(rs_clf_embarked.cv_results_))\\n'"
      ]
     },
     "execution_count": 11,
     "metadata": {},
     "output_type": "execute_result"
    }
   ],
   "source": [
    "'''print(rs_clf_embarked.best_params_)\n",
    "display(pd.DataFrame(rs_clf_embarked.cv_results_))\n",
    "'''"
   ]
  },
  {
   "cell_type": "code",
   "execution_count": 12,
   "id": "defc88df",
   "metadata": {
    "execution": {
     "iopub.execute_input": "2024-03-07T17:00:11.992814Z",
     "iopub.status.busy": "2024-03-07T17:00:11.992383Z",
     "iopub.status.idle": "2024-03-07T17:00:16.977307Z",
     "shell.execute_reply": "2024-03-07T17:00:16.975535Z"
    },
    "papermill": {
     "duration": 4.9985,
     "end_time": "2024-03-07T17:00:16.980023",
     "exception": false,
     "start_time": "2024-03-07T17:00:11.981523",
     "status": "completed"
    },
    "tags": []
   },
   "outputs": [
    {
     "name": "stdout",
     "output_type": "stream",
     "text": [
      "     PassengerId  Survived\n",
      "0            892         0\n",
      "1            893         0\n",
      "2            894         0\n",
      "3            895         0\n",
      "4            896         0\n",
      "5            897         0\n",
      "6            898         1\n",
      "7            899         0\n",
      "8            900         1\n",
      "9            901         0\n",
      "..           ...       ...\n",
      "408         1300         1\n",
      "409         1301         1\n",
      "410         1302         1\n",
      "411         1303         1\n",
      "412         1304         1\n",
      "413         1305         0\n",
      "414         1306         1\n",
      "415         1307         0\n",
      "416         1308         0\n",
      "417         1309         0\n",
      "\n",
      "[418 rows x 2 columns]\n",
      "Your submission was successfully saved!\n"
     ]
    }
   ],
   "source": [
    "drop_columns = [\"Embarked\", \"Ticket\", \"Name\", \"PassengerId\", \"Cabin\", \"Embarked_C\", \"Embarked_S\", \"Embarked_Q\"]\n",
    "\n",
    "new_train_df = prepare_dataframe(train_df, drop_columns)\n",
    "x_train = new_train_df.drop([\"Survived\"], axis=1)\n",
    "y_train = new_train_df[\"Survived\"]\n",
    "x_test = prepare_dataframe(test_df, drop_columns)\n",
    "\n",
    "best_clf = RandomForestClassifier( **{'n_estimators': 2000, 'min_samples_split': 5, 'min_samples_leaf': 4, 'max_features': 'sqrt', 'max_depth': 40, 'bootstrap': False})\n",
    "best_clf.fit(x_train, y_train)\n",
    "best_y_preds = best_clf.predict(x_test)\n",
    "\n",
    "\n",
    "output = pd.DataFrame({'PassengerId': test_df.PassengerId, 'Survived': best_y_preds})\n",
    "print(output)\n",
    "output.to_csv('submission.csv', index=False)\n",
    "print(\"Your submission was successfully saved!\")"
   ]
  }
 ],
 "metadata": {
  "kaggle": {
   "accelerator": "none",
   "dataSources": [
    {
     "databundleVersionId": 26502,
     "sourceId": 3136,
     "sourceType": "competition"
    }
   ],
   "dockerImageVersionId": 30664,
   "isGpuEnabled": false,
   "isInternetEnabled": false,
   "language": "python",
   "sourceType": "notebook"
  },
  "kernelspec": {
   "display_name": "Python 3",
   "language": "python",
   "name": "python3"
  },
  "language_info": {
   "codemirror_mode": {
    "name": "ipython",
    "version": 3
   },
   "file_extension": ".py",
   "mimetype": "text/x-python",
   "name": "python",
   "nbconvert_exporter": "python",
   "pygments_lexer": "ipython3",
   "version": "3.10.13"
  },
  "papermill": {
   "default_parameters": {},
   "duration": 19.626099,
   "end_time": "2024-03-07T17:00:17.712244",
   "environment_variables": {},
   "exception": null,
   "input_path": "__notebook__.ipynb",
   "output_path": "__notebook__.ipynb",
   "parameters": {},
   "start_time": "2024-03-07T16:59:58.086145",
   "version": "2.5.0"
  }
 },
 "nbformat": 4,
 "nbformat_minor": 5
}
